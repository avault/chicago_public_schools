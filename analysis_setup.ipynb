{
  "nbformat": 4,
  "nbformat_minor": 0,
  "metadata": {
    "colab": {
      "name": "analysis_setup.ipynb",
      "version": "0.3.2",
      "provenance": [],
      "toc_visible": true,
      "include_colab_link": true
    },
    "kernelspec": {
      "name": "python3",
      "display_name": "Python 3"
    }
  },
  "cells": [
    {
      "cell_type": "markdown",
      "metadata": {
        "id": "view-in-github",
        "colab_type": "text"
      },
      "source": [
        "[View in Colaboratory](https://colab.research.google.com/github/avault/chicago_public_schools/blob/master/analysis_setup.ipynb)"
      ]
    },
    {
      "metadata": {
        "id": "sG_cqjTiLSWz",
        "colab_type": "text"
      },
      "cell_type": "markdown",
      "source": [
        "# Setup"
      ]
    },
    {
      "metadata": {
        "id": "hsKrZgq6LWzR",
        "colab_type": "code",
        "colab": {}
      },
      "cell_type": "code",
      "source": [
        "# Module Imports\n",
        "\n",
        "import numpy as np\n",
        "import pandas as pd\n",
        "\n",
        "import matplotlib\n",
        "import matplotlib.pyplot as plt"
      ],
      "execution_count": 0,
      "outputs": []
    },
    {
      "metadata": {
        "id": "joD4nVU1KDX7",
        "colab_type": "code",
        "colab": {}
      },
      "cell_type": "code",
      "source": [
        "# Load Data\n",
        "\n",
        "profile_df = pd.read_csv( 'Chicago_Public_Schools_-_School_Profile_Information_SY1617.csv' )\n",
        "progress_df = pd.read_csv( 'Chicago_Public_Schools_-_School_Progress_Reports_SY1617.csv' )"
      ],
      "execution_count": 0,
      "outputs": []
    },
    {
      "metadata": {
        "id": "aBbtorbyMMu0",
        "colab_type": "code",
        "colab": {
          "base_uri": "https://localhost:8080/",
          "height": 51
        },
        "outputId": "16e9eab6-6de1-475f-f651-f5cc276f6f89"
      },
      "cell_type": "code",
      "source": [
        "print( '{} school profiles'.format( len( profile_df ) ) )\n",
        "print( '{} school progress reports'.format( len( c ) ) )"
      ],
      "execution_count": 30,
      "outputs": [
        {
          "output_type": "stream",
          "text": [
            "661 school profiles\n",
            "661 school progress reports\n"
          ],
          "name": "stdout"
        }
      ]
    },
    {
      "metadata": {
        "id": "ORE0QdsAWPIU",
        "colab_type": "text"
      },
      "cell_type": "markdown",
      "source": [
        "### Some Plotting Functions"
      ]
    },
    {
      "metadata": {
        "id": "fk0NFG_JNCVj",
        "colab_type": "code",
        "colab": {}
      },
      "cell_type": "code",
      "source": [
        "def plot_histogram( df, column ):\n",
        "\n",
        "  fig = plt.figure( figsize=(12,8), facecolor='white' )\n",
        "  ax = plt.gca()\n",
        "\n",
        "  ax.hist(\n",
        "      np.ma.fix_invalid( progress_df[column] ).compressed()\n",
        "  )\n",
        "  \n",
        "  ax.set_xlabel( column, fontsize=22 )\n",
        "  \n",
        "  plt.xticks( fontsize=20 )"
      ],
      "execution_count": 0,
      "outputs": []
    },
    {
      "metadata": {
        "id": "ytHqRGP2SyTX",
        "colab_type": "code",
        "colab": {}
      },
      "cell_type": "code",
      "source": [
        "def scatter_plot( df, x_key, y_key ):\n",
        "  \n",
        "  fig = plt.figure( figsize=(12,11), facecolor='white' )\n",
        "  ax = plt.gca()\n",
        "\n",
        "  ax.scatter(\n",
        "      df[x_key],\n",
        "      df[y_key]\n",
        "  )\n",
        "  \n",
        "  ax.set_xlabel( x_key, fontsize=22 )\n",
        "  ax.set_ylabel( y_key, fontsize=22 )\n",
        "  \n",
        "  plt.xticks( fontsize=20 )\n",
        "  plt.yticks( fontsize=20 )"
      ],
      "execution_count": 0,
      "outputs": []
    },
    {
      "metadata": {
        "id": "m84O2ERrWKud",
        "colab_type": "text"
      },
      "cell_type": "markdown",
      "source": [
        "# Analysis"
      ]
    },
    {
      "metadata": {
        "id": "XaoNV-CZWMYc",
        "colab_type": "code",
        "colab": {}
      },
      "cell_type": "code",
      "source": [
        ""
      ],
      "execution_count": 0,
      "outputs": []
    }
  ]
}