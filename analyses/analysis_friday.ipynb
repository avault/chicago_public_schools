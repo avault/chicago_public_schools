{
 "cells": [
  {
   "cell_type": "markdown",
   "metadata": {
    "colab_type": "text",
    "id": "view-in-github"
   },
   "source": [
    "[View in Colaboratory](https://colab.research.google.com/github/avault/chicago_public_schools/blob/master/analysis_setup.ipynb)"
   ]
  },
  {
   "cell_type": "markdown",
   "metadata": {
    "colab_type": "text",
    "id": "sG_cqjTiLSWz"
   },
   "source": [
    "# Setup"
   ]
  },
  {
   "cell_type": "code",
   "execution_count": 1,
   "metadata": {
    "colab": {},
    "colab_type": "code",
    "id": "hsKrZgq6LWzR"
   },
   "outputs": [],
   "source": [
    "# Module Imports\n",
    "\n",
    "import numpy as np\n",
    "import pandas as pd\n",
    "\n",
    "import matplotlib\n",
    "import matplotlib.pyplot as plt"
   ]
  },
  {
   "cell_type": "code",
   "execution_count": 2,
   "metadata": {},
   "outputs": [],
   "source": [
    "# Make sure we can see all the data\n",
    "pd.set_option('display.max_rows', None)"
   ]
  },
  {
   "cell_type": "code",
   "execution_count": 3,
   "metadata": {
    "colab": {},
    "colab_type": "code",
    "id": "joD4nVU1KDX7"
   },
   "outputs": [],
   "source": [
    "# Load Data\n",
    "profile_df = pd.read_csv( '../data/Chicago_Public_Schools_-_School_Profile_Information_SY1617.csv' )\n",
    "progress_df = pd.read_csv( '../data/Chicago_Public_Schools_-_School_Progress_Reports_SY1617.csv' )"
   ]
  },
  {
   "cell_type": "code",
   "execution_count": 4,
   "metadata": {},
   "outputs": [],
   "source": [
    "profile_df.set_index( 'School_ID', inplace=True )\n",
    "progress_df.set_index( 'School_ID', inplace=True )"
   ]
  },
  {
   "cell_type": "code",
   "execution_count": 5,
   "metadata": {
    "colab": {
     "base_uri": "https://localhost:8080/",
     "height": 51
    },
    "colab_type": "code",
    "id": "aBbtorbyMMu0",
    "outputId": "16e9eab6-6de1-475f-f651-f5cc276f6f89"
   },
   "outputs": [
    {
     "name": "stdout",
     "output_type": "stream",
     "text": [
      "661 school profiles\n",
      "661 school progress reports\n"
     ]
    }
   ],
   "source": [
    "print( '{} school profiles'.format( len( profile_df ) ) )\n",
    "print( '{} school progress reports'.format( len( progress_df ) ) )"
   ]
  },
  {
   "cell_type": "code",
   "execution_count": 6,
   "metadata": {},
   "outputs": [],
   "source": [
    "# Combine into one df\n",
    "combined_df = pd.concat( [profile_df, progress_df ], axis=1 )"
   ]
  },
  {
   "cell_type": "code",
   "execution_count": 7,
   "metadata": {},
   "outputs": [],
   "source": [
    "# Choose high schools\n",
    "is_hs = profile_df['Is_High_School'] == 'Y'\n",
    "hs_df = combined_df.loc[is_hs]"
   ]
  },
  {
   "cell_type": "code",
   "execution_count": 8,
   "metadata": {},
   "outputs": [
    {
     "name": "stdout",
     "output_type": "stream",
     "text": [
      "Legacy_Unit_ID\n",
      "Finance_ID\n",
      "Short_Name\n",
      "Long_Name\n",
      "School_Type\n",
      "Primary_Category\n",
      "Is_High_School\n",
      "Is_Middle_School\n",
      "Is_Elementary_School\n",
      "Is_Pre_School\n",
      "Summary\n",
      "Administrator_Title\n",
      "Administrator\n",
      "Secondary_Contact_Title\n",
      "Secondary_Contact\n",
      "Address\n",
      "City\n",
      "State\n",
      "Zip\n",
      "Phone\n",
      "Fax\n",
      "CPS_School_Profile\n",
      "Website\n",
      "Facebook\n",
      "Twitter\n",
      "Youtube\n",
      "Pinterest\n",
      "Attendance_Boundaries\n",
      "Grades_Offered_All\n",
      "Grades_Offered\n",
      "Student_Count_Total\n",
      "Student_Count_Low_Income\n",
      "Student_Count_Special_Ed\n",
      "Student_Count_English_Learners\n",
      "Student_Count_Black\n",
      "Student_Count_Hispanic\n",
      "Student_Count_White\n",
      "Student_Count_Asian\n",
      "Student_Count_Native_American\n",
      "Student_Count_Other_Ethnicity\n",
      "Student_Count_Asian_Pacific_Islander\n",
      "Student_Count_Multi\n",
      "Student_Count_Hawaiian_Pacific_Islander\n",
      "Student_Count_Ethnicity_Not_Available\n",
      "Statistics_Description\n",
      "Demographic_Description\n",
      "ADA_Accessible\n",
      "Dress_Code\n",
      "PreK_School_Day\n",
      "Kindergarten_School_Day\n",
      "School_Hours\n",
      "Freshman_Start_End_Time\n",
      "After_School_Hours\n",
      "Earliest_Drop_Off_Time\n",
      "Classroom_Languages\n",
      "Bilingual_Services\n",
      "Refugee_Services\n",
      "Title_1_Eligible\n",
      "PreSchool_Inclusive\n",
      "Preschool_Instructional\n",
      "Significantly_Modified\n",
      "Hard_Of_Hearing\n",
      "Visual_Impairments\n",
      "Transportation_Bus\n",
      "Transportation_El\n",
      "Transportation_Metra\n",
      "School_Latitude\n",
      "School_Longitude\n",
      "Average_ACT_School\n",
      "Mean_ACT\n",
      "College_Enrollment_Rate_School\n",
      "College_Enrollment_Rate_Mean\n",
      "Graduation_Rate_School\n",
      "Graduation_Rate_Mean\n",
      "Overall_Rating\n",
      "Rating_Status\n",
      "Rating_Statement\n",
      "Classification_Description\n",
      "School_Year\n",
      "Third_Contact_Title\n",
      "Third_Contact_Name\n",
      "Fourth_Contact_Title\n",
      "Fourth_Contact_Name\n",
      "Fifth_Contact_Title\n",
      "Fifth_Contact_Name\n",
      "Sixth_Contact_Title\n",
      "Sixth_Contact_Name\n",
      "Seventh_Contact_Title\n",
      "Seventh_Contact_Name\n",
      "Location\n",
      "Short_Name\n",
      "Long_Name\n",
      "School_Type\n",
      "Primary_Category\n",
      "Address\n",
      "City\n",
      "State\n",
      "Zip\n",
      "Phone\n",
      "Fax\n",
      "CPS_School_Profile\n",
      "Website\n",
      "Progress_Report_Year\n",
      "Blue_Ribbon_Award_Year\n",
      "Excelerate_Award_Gold_Year\n",
      "Spot_Light_Award_Year\n",
      "Improvement_Award_Year\n",
      "Excellence_Award_Year\n",
      "Student_Growth_Rating\n",
      "Student_Growth_Description\n",
      "Growth_Reading_Grades_Tested_Pct_ES\n",
      "Growth_Reading_Grades_Tested_Label_ES\n",
      "Growth_Math_Grades_Tested_Pct_ES\n",
      "Growth_Math_Grades_Tested_Label_ES\n",
      "Student_Attainment_Rating\n",
      "Student_Attainment_Description\n",
      "Attainment_Reading_Pct_ES\n",
      "Attainment_Reading_Lbl_ES\n",
      "Attainment_Math_Pct_ES\n",
      "Attainment_Math_Lbl_ES\n",
      "Culture_Climate_Rating\n",
      "Culture_Climate_Description\n",
      "School_Survey_Student_Response_Rate_Pct\n",
      "School_Survey_Student_Response_Rate_Avg_Pct\n",
      "School_Survey_Teacher_Response_Rate_Pct\n",
      "School_Survey_Teacher_Response_Rate_Avg_Pct\n",
      "Healthy_School_Certification\n",
      "Healthy_School_Certification_Description\n",
      "Creative_School_Certification\n",
      "Creative_School_Certification_Description\n",
      "NWEA_Reading_Growth_Grade_3_Pct\n",
      "NWEA_Reading_Growth_Grade_3_Lbl\n",
      "NWEA_Reading_Growth_Grade_4_Pct\n",
      "NWEA_Reading_Growth_Grade_4_Lbl\n",
      "NWEA_Reading_Growth_Grade_5_Pct\n",
      "NWEA_Reading_Growth_Grade_5_Lbl\n",
      "NWEA_Reading_Growth_Grade_6_Pct\n",
      "NWEA_Reading_Growth_Grade_6_Lbl\n",
      "NWEA_Reading_Growth_Grade_7_Pct\n",
      "NWEA_Reading_Growth_Grade_7_Lbl\n",
      "NWEA_Reading_Growth_Grade_8_Pct\n",
      "NWEA_Reading_Growth_Grade_8_Lbl\n",
      "NWEA_Math_Growth_Grade_3_Pct\n",
      "NWEA_Math_Growth_Grade_3_Lbl\n",
      "NWEA_Math_Growth_Grade_4_Pct\n",
      "NWEA_Math_Growth_Grade_4_Lbl\n",
      "NWEA_Math_Growth_Grade_5_Pct\n",
      "NWEA_Math_Growth_Grade_5_Lbl\n",
      "NWEA_Math_Growth_Grade_6_Pct\n",
      "NWEA_Math_Growth_Grade_6_Lbl\n",
      "NWEA_Math_Growth_Grade_7_Pct\n",
      "NWEA_Math_Growth_Grade_7_Lbl\n",
      "NWEA_Math_Growth_Grade_8_Pct\n",
      "NWEA_Math_Growth_Grade_8_Lbl\n",
      "NWEA_Reading_Attainment_Grade_2_Pct\n",
      "NWEA_Reading_Attainment_Grade_2_Lbl\n",
      "NWEA_Reading_Attainment_Grade_3_Pct\n",
      "NWEA_Reading_Attainment_Grade_3_Lbl\n",
      "NWEA_Reading_Attainment_Grade_4_Pct\n",
      "NWEA_Reading_Attainment_Grade_4_Lbl\n",
      "NWEA_Reading_Attainment_Grade_5_Pct\n",
      "NWEA_Reading_Attainment_Grade_5_Lbl\n",
      "NWEA_Reading_Attainment_Grade_6_Pct\n",
      "NWEA_Reading_Attainment_Grade_6_Lbl\n",
      "NWEA_Reading_Attainment_Grade_7_Pct\n",
      "NWEA_Reading_Attainment_Grade_7_Lbl\n",
      "NWEA_Reading_Attainment_Grade_8_Pct\n",
      "NWEA_Reading_Attainment_Grade_8_Lbl\n",
      "NWEA_Math_Attainment_Grade_2_Pct\n",
      "NWEA_Math_Attainment_Grade_2_Lbl\n",
      "NWEA_Math_Attainment_Grade_3_Pct\n",
      "NWEA_Math_Attainment_Grade_3_Lbl\n",
      "NWEA_Math_Attainment_Grade_4_Pct\n",
      "NWEA_Math_Attainment_Grade_4_Lbl\n",
      "NWEA_Math_Attainment_Grade_5_Pct\n",
      "NWEA_Math_Attainment_Grade_5_Lbl\n",
      "NWEA_Math_Attainment_Grade_6_Pct\n",
      "NWEA_Math_Attainment_Grade_6_Lbl\n",
      "NWEA_Math_Attainment_Grade_7_Pct\n",
      "NWEA_Math_Attainment_Grade_7_Lbl\n",
      "NWEA_Math_Attainment_Grade_8_Pct\n",
      "NWEA_Math_Attainment_Grade_8_Lbl\n",
      "School_Survey_Involved_Families\n",
      "School_Survey_Supportive_Environment\n",
      "School_Survey_Ambitious_Instruction\n",
      "School_Survey_Effective_Leaders\n",
      "School_Survey_Collaborative_Teachers\n",
      "School_Survey_Safety\n",
      "Suspensions_Per_100_Students_Year_1_Pct\n",
      "Suspensions_Per_100_Students_Year_2_Pct\n",
      "Suspensions_Per_100_Students_Avg_Pct\n",
      "Misconducts_To_Suspensions_Year_1_Pct\n",
      "Misconducts_To_Suspensions_Year_2_Pct\n",
      "Misconducts_To_Suspensions_Avg_Pct\n",
      "Average_Length_Suspension_Year_1_Pct\n",
      "Average_Length_Suspension_Year_2_Pct\n",
      "Average_Length_Suspension_Avg_Pct\n",
      "Behavior_Discipline_Year_1\n",
      "Behavior_Discipline_Year_2\n",
      "School_Survey_School_Community\n",
      "School_Survey_Parent_Teacher_Partnership\n",
      "School_Survey_Quality_Of_Facilities\n",
      "Student_Attendance_Year_1_Pct\n",
      "Student_Attendance_Year_2_Pct\n",
      "Student_Attendance_Avg_Pct\n",
      "Teacher_Attendance_Year_1_Pct\n",
      "Teacher_Attendance_Year_2_Pct\n",
      "Teacher_Attendance_Avg_Pct\n",
      "One_Year_Dropout_Rate_Year_1_Pct\n",
      "One_Year_Dropout_Rate_Year_2_Pct\n",
      "One_Year_Dropout_Rate_Avg_Pct\n",
      "Other_Metrics_Year_1\n",
      "Other_Metrics_Year_2\n",
      "Growth_ACT_Grade_11_Pct\n",
      "Growth_ACT_Grade_11_Lbl\n",
      "Attainment_ACT_Grade_11_Pct\n",
      "Attainment_ACT_Grade_11_Lbl\n",
      "Freshmen_On_Track_School_Pct_Year_2\n",
      "Freshmen_On_Track_CPS_Pct_Year_2\n",
      "Freshmen_On_Track_School_Pct_Year_1\n",
      "Freshmen_On_Track_CPS_Pct_Year_1\n",
      "Graduation_4_Year_School_Pct_Year_2\n",
      "Graduation_4_Year_CPS_Pct_Year_2\n",
      "Graduation_4_Year_School_Pct_Year_1\n",
      "Graduation_4_Year_CPS_Pct_Year_1\n",
      "Graduation_5_Year_School_Pct_Year_2\n",
      "Graduation_5_Year_CPS_Pct_Year_2\n",
      "Graduation_5_Year_School_Pct_Year_1\n",
      "Graduation_5_Year_CPS_Pct_Year_1\n",
      "College_Enrollment_School_Pct_Year_2\n",
      "College_Enrollment_CPS_Pct_Year_2\n",
      "College_Enrollment_School_Pct_Year_1\n",
      "College_Enrollment_CPS_Pct_Year_1\n",
      "College_Persistence_School_Pct_Year_2\n",
      "College_Persistence_CPS_Pct_Year_2\n",
      "College_Persistence_School_Pct_Year_1\n",
      "College_Persistence_CPS_Pct_Year_1\n",
      "Progress_Toward_Graduation_Year_1\n",
      "Progress_Toward_Graduation_Year_2\n",
      "State_School_Report_Card_URL\n",
      "Mobility_Rate_Pct\n",
      "Chronic_Truancy_Pct\n",
      "Empty_Progress_Report_Message\n",
      "School_Survey_Rating_Description\n",
      "Supportive_School_Award\n",
      "Supportive_School_Award_Desc\n",
      "Parent_Survey_Results_Year\n",
      "School_Latitude\n",
      "School_Longitude\n",
      "Location\n"
     ]
    }
   ],
   "source": [
    "# Allow plotting all columns, and then show them.\n",
    "for column in hs_df.columns:\n",
    "    print( column )"
   ]
  },
  {
   "cell_type": "markdown",
   "metadata": {
    "colab_type": "text",
    "id": "ORE0QdsAWPIU"
   },
   "source": [
    "### Some Plotting Functions"
   ]
  },
  {
   "cell_type": "code",
   "execution_count": 9,
   "metadata": {
    "colab": {},
    "colab_type": "code",
    "id": "fk0NFG_JNCVj"
   },
   "outputs": [],
   "source": [
    "def histogram_plot( df, column ):\n",
    "\n",
    "    fig = plt.figure( figsize=(12,8), facecolor='white' )\n",
    "    ax = plt.gca()\n",
    "\n",
    "    ax.hist(\n",
    "      np.ma.fix_invalid( df[column] ).compressed()\n",
    "    )\n",
    "\n",
    "    ax.set_xlabel( column, fontsize=22 )\n",
    "\n",
    "    plt.xticks( fontsize=20 )"
   ]
  },
  {
   "cell_type": "code",
   "execution_count": 10,
   "metadata": {
    "colab": {},
    "colab_type": "code",
    "id": "ytHqRGP2SyTX"
   },
   "outputs": [],
   "source": [
    "def scatter_plot( df, x_key, y_key ):\n",
    "  \n",
    "    fig = plt.figure( figsize=(12,11), facecolor='white' )\n",
    "    ax = plt.gca()\n",
    "\n",
    "    ax.scatter(\n",
    "      df[x_key],\n",
    "      df[y_key]\n",
    "    )\n",
    "\n",
    "    ax.set_xlabel( x_key, fontsize=22 )\n",
    "    ax.set_ylabel( y_key, fontsize=22 )\n",
    "\n",
    "    plt.xticks( fontsize=20 )\n",
    "    plt.yticks( fontsize=20 )"
   ]
  },
  {
   "cell_type": "markdown",
   "metadata": {
    "colab_type": "text",
    "id": "m84O2ERrWKud"
   },
   "source": [
    "# Analysis"
   ]
  },
  {
   "cell_type": "code",
   "execution_count": 17,
   "metadata": {
    "colab": {},
    "colab_type": "code",
    "id": "XaoNV-CZWMYc"
   },
   "outputs": [
    {
     "data": {
      "image/png": "[encoded data removed]",
      "text/plain": [
       "<matplotlib.figure.Figure at 0x10bd0e0f0>"
      ]
     },
     "metadata": {},
     "output_type": "display_data"
    }
   ],
   "source": [
    "histogram_plot( hs_df, ['College_Enrollment_School_Pct_Year_2'] )"
   ]
  },
  {
   "cell_type": "code",
   "execution_count": 18,
   "metadata": {},
   "outputs": [
    {
     "name": "stderr",
     "output_type": "stream",
     "text": [
      "/Applications/anaconda/envs/py36/lib/python3.6/site-packages/ipykernel/__main__.py:13: SettingWithCopyWarning: \n",
      "A value is trying to be set on a copy of a slice from a DataFrame.\n",
      "Try using .loc[row_indexer,col_indexer] = value instead\n",
      "\n",
      "See the caveats in the documentation: http://pandas.pydata.org/pandas-docs/stable/indexing.html#indexing-view-versus-copy\n"
     ]
    }
   ],
   "source": [
    "overall_rating_mapping = {\n",
    "    'Inability to Rate': 0,\n",
    "    'Level 3': 1.,\n",
    "    'Level 3+': 1.5,\n",
    "    'Level 2': 2.,\n",
    "    'Level 2+': 2.5,\n",
    "    'Level 1': 3.,\n",
    "    'Level 1+': 3.5,\n",
    "}\n",
    "overall_rating_int = []\n",
    "for rating in hs_df['Overall_Rating']:\n",
    "    overall_rating_int.append( overall_rating_mapping[rating] )\n",
    "hs_df['Overall_Rating_Int'] = np.array( overall_rating_int )"
   ]
  },
  {
   "cell_type": "code",
   "execution_count": 19,
   "metadata": {},
   "outputs": [
    {
     "data": {
      "image/png": "[encoded data removed]",
      "text/plain": [
       "<matplotlib.figure.Figure at 0x10375d6a0>"
      ]
     },
     "metadata": {},
     "output_type": "display_data"
    }
   ],
   "source": [
    "scatter_plot( hs_df, 'Overall_Rating_Int', 'College_Enrollment_School_Pct_Year_2' )"
   ]
  },
  {
   "cell_type": "code",
   "execution_count": 23,
   "metadata": {},
   "outputs": [
    {
     "name": "stderr",
     "output_type": "stream",
     "text": [
      "/Applications/anaconda/envs/py36/lib/python3.6/site-packages/ipykernel/__main__.py:12: SettingWithCopyWarning: \n",
      "A value is trying to be set on a copy of a slice from a DataFrame.\n",
      "Try using .loc[row_indexer,col_indexer] = value instead\n",
      "\n",
      "See the caveats in the documentation: http://pandas.pydata.org/pandas-docs/stable/indexing.html#indexing-view-versus-copy\n"
     ]
    }
   ],
   "source": [
    "overall_rating_mapping = {\n",
    "    'NOT ENOUGH DATA': -1.,\n",
    "    'NOT YET ORGANIZED': 0,\n",
    "    'PARTIALLY ORGANIZED': 1.,\n",
    "    'MODERATELY ORGANIZED': 2.,\n",
    "    'ORGANIZED': 3.,\n",
    "    'WELL ORGANIZED': 4.,\n",
    "}\n",
    "overall_rating_int = []\n",
    "for rating in hs_df['Culture_Climate_Rating']:\n",
    "    overall_rating_int.append( overall_rating_mapping[rating] )\n",
    "hs_df['Culture_Climate_Rating_Int'] = np.array( overall_rating_int )"
   ]
  },
  {
   "cell_type": "code",
   "execution_count": 24,
   "metadata": {},
   "outputs": [
    {
     "data": {
      "image/png": "[encoded data removed]",
      "text/plain": [
       "<matplotlib.figure.Figure at 0x10bd0ed30>"
      ]
     },
     "metadata": {},
     "output_type": "display_data"
    }
   ],
   "source": [
    "scatter_plot( hs_df, 'Culture_Climate_Rating_Int', 'College_Enrollment_School_Pct_Year_2' )"
   ]
  },
  {
   "cell_type": "code",
   "execution_count": null,
   "metadata": {},
   "outputs": [],
   "source": []
  }
 ],
 "metadata": {
  "colab": {
   "include_colab_link": true,
   "name": "analysis_setup.ipynb",
   "provenance": [],
   "toc_visible": true,
   "version": "0.3.2"
  },
  "kernelspec": {
   "display_name": "Python [conda env:py36]",
   "language": "python",
   "name": "conda-env-py36-py"
  },
  "language_info": {
   "codemirror_mode": {
    "name": "ipython",
    "version": 3
   },
   "file_extension": ".py",
   "mimetype": "text/x-python",
   "name": "python",
   "nbconvert_exporter": "python",
   "pygments_lexer": "ipython3",
   "version": "3.6.1"
  }
 },
 "nbformat": 4,
 "nbformat_minor": 2
}
